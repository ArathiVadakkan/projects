{
  "nbformat": 4,
  "nbformat_minor": 0,
  "metadata": {
    "colab": {
      "provenance": []
    },
    "kernelspec": {
      "name": "python3",
      "display_name": "Python 3"
    },
    "language_info": {
      "name": "python"
    }
  },
  "cells": [
    {
      "cell_type": "code",
      "execution_count": 1,
      "metadata": {
        "id": "IOf_OyX7iIHy"
      },
      "outputs": [],
      "source": [
        "import tensorflow as tf\n",
        "from tensorflow import keras"
      ]
    },
    {
      "cell_type": "code",
      "source": [
        "from tensorflow.keras.datasets import mnist\n",
        "from tensorflow.keras.models import Sequential"
      ],
      "metadata": {
        "id": "Ss-bNRchizmi"
      },
      "execution_count": 2,
      "outputs": []
    },
    {
      "cell_type": "code",
      "source": [
        "from tensorflow.keras.layers import Conv2D,MaxPooling2D,Flatten,Dense,Dropout\n",
        "from tensorflow.keras.optimizers import  Adam\n",
        "from tensorflow.keras.regularizers import l2\n",
        "from tensorflow.keras.callbacks import EarlyStopping"
      ],
      "metadata": {
        "id": "xCuLjxAii3In"
      },
      "execution_count": 3,
      "outputs": []
    },
    {
      "cell_type": "code",
      "source": [
        "(x_train,y_train),(x_test,y_test)=mnist.load_data()"
      ],
      "metadata": {
        "colab": {
          "base_uri": "https://localhost:8080/"
        },
        "id": "qmJIMYfOi3dX",
        "outputId": "c015babf-9db3-4bf7-9bc1-15a366d32585"
      },
      "execution_count": 4,
      "outputs": [
        {
          "output_type": "stream",
          "name": "stdout",
          "text": [
            "Downloading data from https://storage.googleapis.com/tensorflow/tf-keras-datasets/mnist.npz\n",
            "11490434/11490434 [==============================] - 0s 0us/step\n"
          ]
        }
      ]
    },
    {
      "cell_type": "code",
      "source": [
        "x_train=x_train.astype('float32')/255.0\n",
        "x_test=x_test.astype('float32')/255.0"
      ],
      "metadata": {
        "id": "6uquTu-zi42_"
      },
      "execution_count": 5,
      "outputs": []
    },
    {
      "cell_type": "code",
      "source": [
        "x_train=x_train.reshape(x_train.shape[0],28,28,1)\n",
        "x_test=x_test.reshape(x_test.shape[0],28,28,1)"
      ],
      "metadata": {
        "id": "yfgpNjMMi6Rv"
      },
      "execution_count": 6,
      "outputs": []
    },
    {
      "cell_type": "code",
      "source": [
        "num_class=10\n",
        "y_train=keras.utils.to_categorical(y_train,num_class)\n",
        "y_test=keras.utils.to_categorical(y_test,num_class)"
      ],
      "metadata": {
        "id": "BBOWlkooi7nP"
      },
      "execution_count": 7,
      "outputs": []
    },
    {
      "cell_type": "code",
      "source": [
        "model=Sequential()\n",
        "model.add(Conv2D(32,kernel_size=(3,3),activation='relu',input_shape=(28,28,1),kernel_regularizer=l2(0.001)))\n",
        "model.add(MaxPooling2D(pool_size=(2,2)))\n",
        "model.add(Conv2D(64,kernel_size=(3,3),activation='relu',kernel_regularizer=l2(0.001)))\n",
        "model.add(MaxPooling2D(pool_size=(2,2)))\n",
        "model.add(Flatten())\n",
        "model.add(Dense(128,activation='relu',kernel_regularizer=l2(0.001)))\n",
        "model.add(Dropout(0.5))\n",
        "model.add(Dense(num_class,activation='softmax'))"
      ],
      "metadata": {
        "id": "k2kVUp-Di88v"
      },
      "execution_count": 8,
      "outputs": []
    },
    {
      "cell_type": "code",
      "source": [
        "model.compile(loss='categorical_crossentropy',optimizer=Adam(),metrics=['accuracy'])"
      ],
      "metadata": {
        "id": "eCI2COFWi-YX"
      },
      "execution_count": 9,
      "outputs": []
    },
    {
      "cell_type": "code",
      "source": [
        "early_stopping=EarlyStopping(monitor='val_loss',patience=5,restore_best_weights=True)"
      ],
      "metadata": {
        "id": "1qu2c1OwjA_v"
      },
      "execution_count": 10,
      "outputs": []
    },
    {
      "cell_type": "code",
      "source": [
        "batch_size_val=128\n",
        "epochs=20\n",
        "history=model.fit(x_train,y_train,batch_size=batch_size_val,epochs=epochs,validation_split=0.1,callbacks=[early_stopping],verbose=1)"
      ],
      "metadata": {
        "colab": {
          "base_uri": "https://localhost:8080/"
        },
        "id": "a-lOiF_OjDhX",
        "outputId": "efadf5da-712f-4065-e433-19182536cf03"
      },
      "execution_count": 11,
      "outputs": [
        {
          "output_type": "stream",
          "name": "stdout",
          "text": [
            "Epoch 1/20\n",
            "422/422 [==============================] - 60s 138ms/step - loss: 0.5042 - accuracy: 0.9049 - val_loss: 0.2138 - val_accuracy: 0.9805\n",
            "Epoch 2/20\n",
            "422/422 [==============================] - 52s 123ms/step - loss: 0.2425 - accuracy: 0.9651 - val_loss: 0.1602 - val_accuracy: 0.9848\n",
            "Epoch 3/20\n",
            "422/422 [==============================] - 53s 125ms/step - loss: 0.1940 - accuracy: 0.9720 - val_loss: 0.1381 - val_accuracy: 0.9855\n",
            "Epoch 4/20\n",
            "422/422 [==============================] - 54s 128ms/step - loss: 0.1758 - accuracy: 0.9739 - val_loss: 0.1283 - val_accuracy: 0.9883\n",
            "Epoch 5/20\n",
            "422/422 [==============================] - 53s 126ms/step - loss: 0.1627 - accuracy: 0.9763 - val_loss: 0.1261 - val_accuracy: 0.9870\n",
            "Epoch 6/20\n",
            "422/422 [==============================] - 53s 126ms/step - loss: 0.1554 - accuracy: 0.9776 - val_loss: 0.1282 - val_accuracy: 0.9863\n",
            "Epoch 7/20\n",
            "422/422 [==============================] - 52s 123ms/step - loss: 0.1534 - accuracy: 0.9779 - val_loss: 0.1218 - val_accuracy: 0.9857\n",
            "Epoch 8/20\n",
            "422/422 [==============================] - 55s 129ms/step - loss: 0.1472 - accuracy: 0.9793 - val_loss: 0.1122 - val_accuracy: 0.9887\n",
            "Epoch 9/20\n",
            "422/422 [==============================] - 53s 125ms/step - loss: 0.1429 - accuracy: 0.9797 - val_loss: 0.1079 - val_accuracy: 0.9898\n",
            "Epoch 10/20\n",
            "422/422 [==============================] - 53s 125ms/step - loss: 0.1389 - accuracy: 0.9804 - val_loss: 0.1091 - val_accuracy: 0.9892\n",
            "Epoch 11/20\n",
            "422/422 [==============================] - 52s 122ms/step - loss: 0.1341 - accuracy: 0.9812 - val_loss: 0.1064 - val_accuracy: 0.9893\n",
            "Epoch 12/20\n",
            "422/422 [==============================] - 51s 122ms/step - loss: 0.1337 - accuracy: 0.9812 - val_loss: 0.1069 - val_accuracy: 0.9878\n",
            "Epoch 13/20\n",
            "422/422 [==============================] - 54s 129ms/step - loss: 0.1299 - accuracy: 0.9822 - val_loss: 0.1066 - val_accuracy: 0.9892\n",
            "Epoch 14/20\n",
            "422/422 [==============================] - 51s 121ms/step - loss: 0.1271 - accuracy: 0.9825 - val_loss: 0.1020 - val_accuracy: 0.9898\n",
            "Epoch 15/20\n",
            "422/422 [==============================] - 52s 122ms/step - loss: 0.1255 - accuracy: 0.9829 - val_loss: 0.1024 - val_accuracy: 0.9877\n",
            "Epoch 16/20\n",
            "422/422 [==============================] - 51s 122ms/step - loss: 0.1250 - accuracy: 0.9822 - val_loss: 0.1039 - val_accuracy: 0.9890\n",
            "Epoch 17/20\n",
            "422/422 [==============================] - 51s 122ms/step - loss: 0.1249 - accuracy: 0.9823 - val_loss: 0.1004 - val_accuracy: 0.9905\n",
            "Epoch 18/20\n",
            "422/422 [==============================] - 54s 127ms/step - loss: 0.1200 - accuracy: 0.9837 - val_loss: 0.0956 - val_accuracy: 0.9905\n",
            "Epoch 19/20\n",
            "422/422 [==============================] - 52s 123ms/step - loss: 0.1192 - accuracy: 0.9834 - val_loss: 0.0958 - val_accuracy: 0.9905\n",
            "Epoch 20/20\n",
            "422/422 [==============================] - 51s 121ms/step - loss: 0.1175 - accuracy: 0.9832 - val_loss: 0.0973 - val_accuracy: 0.9885\n"
          ]
        }
      ]
    },
    {
      "cell_type": "code",
      "source": [
        "score_val=model.evaluate(x_test,y_test,verbose=0)\n",
        "print('Test loss :',score_val[0])\n",
        "print('Test accuracy :',score_val[1])"
      ],
      "metadata": {
        "colab": {
          "base_uri": "https://localhost:8080/"
        },
        "id": "hngLABXijDsf",
        "outputId": "9e4d5495-8f94-4119-a07d-e5005435f988"
      },
      "execution_count": 12,
      "outputs": [
        {
          "output_type": "stream",
          "name": "stdout",
          "text": [
            "Test loss : 0.09281166642904282\n",
            "Test accuracy : 0.989300012588501\n"
          ]
        }
      ]
    },
    {
      "cell_type": "markdown",
      "source": [
        "##PreProcessing Image"
      ],
      "metadata": {
        "id": "9oZnsKoSjIEs"
      }
    },
    {
      "cell_type": "code",
      "source": [
        "def preprocessing(image):\n",
        "  image=image.convert('L')\n",
        "  image=image.resize((28,28))\n",
        "  image_array=np.array(image)\n",
        "  image_array=image_array.astype('float32')/255.0\n",
        "  image_array=np.expand_dims(image_array,axis=0)\n",
        "  return image_array"
      ],
      "metadata": {
        "id": "bk5WHVO-jNy2"
      },
      "execution_count": 13,
      "outputs": []
    },
    {
      "cell_type": "code",
      "source": [
        "import requests\n",
        "from PIL import Image\n",
        "from io import BytesIO\n",
        "import  numpy as np"
      ],
      "metadata": {
        "id": "RQPjQdLHj1Vl"
      },
      "execution_count": 19,
      "outputs": []
    },
    {
      "cell_type": "code",
      "source": [
        "#from six import BytesIO\n",
        "url='/content/3.PNG'\n",
        "image=Image.open(url)\n",
        "proc_image=preprocessing(image)\n",
        "prediction=model.predict(proc_image)\n",
        "predicted_digit=np.argmax(prediction[0])\n",
        "print(predicted_digit)"
      ],
      "metadata": {
        "colab": {
          "base_uri": "https://localhost:8080/"
        },
        "id": "V6p1jyxyj4Lk",
        "outputId": "2820f67b-264f-49f6-eac9-9b15f60b064c"
      },
      "execution_count": 20,
      "outputs": [
        {
          "output_type": "stream",
          "name": "stdout",
          "text": [
            "1/1 [==============================] - 0s 305ms/step\n",
            "3\n"
          ]
        }
      ]
    },
    {
      "cell_type": "code",
      "source": [],
      "metadata": {
        "id": "uBsF1Z5Bj4ct"
      },
      "execution_count": null,
      "outputs": []
    }
  ]
}